{
 "cells": [
  {
   "cell_type": "markdown",
   "metadata": {},
   "source": [
    "#### Name: Mostafa nasser ali "
   ]
  },
  {
   "cell_type": "markdown",
   "metadata": {},
   "source": [
    "<center><h3 style=\"color:brown\">Python Assignment day 2</h3><center>"
   ]
  },
  {
   "cell_type": "markdown",
   "metadata": {},
   "source": [
    "<strong>1- Given a list of numbers, create a function that returns a list where all similar \n",
    "adjacent elements have been reduced to a single element,\n",
    " so [1,2,3,3] returns [1,2,3]</strong>\n"
   ]
  },
  {
   "cell_type": "code",
   "execution_count": 3,
   "metadata": {},
   "outputs": [
    {
     "name": "stdout",
     "output_type": "stream",
     "text": [
      "[1, 2, 3]\n"
     ]
    }
   ],
   "source": [
    "mylist = [1,2,3,3]\n",
    "mylist = list(dict.fromkeys(mylist))\n",
    "print(mylist)"
   ]
  },
  {
   "cell_type": "markdown",
   "metadata": {},
   "source": [
    "#### another way"
   ]
  },
  {
   "cell_type": "code",
   "execution_count": 5,
   "metadata": {},
   "outputs": [],
   "source": [
    "def duplicate_remover(array):\n",
    "    converter = set(array)\n",
    "    s = list(converter)\n",
    "    print(s)"
   ]
  },
  {
   "cell_type": "code",
   "execution_count": 6,
   "metadata": {},
   "outputs": [
    {
     "name": "stdout",
     "output_type": "stream",
     "text": [
      "[1, 2, 3]\n"
     ]
    }
   ],
   "source": [
    "duplicate_remover([1,2,3,3,3,3])"
   ]
  },
  {
   "cell_type": "markdown",
   "metadata": {},
   "source": [
    "<strong>2- Write a Python program to find the most common elements and their counts of a specified text.\n",
    "s = 'lkseropewdssafsdfafkpwe'\n",
    "Hint \n",
    "use from collections import Counter and read about it</strong>\n"
   ]
  },
  {
   "cell_type": "code",
   "execution_count": 8,
   "metadata": {},
   "outputs": [
    {
     "name": "stdout",
     "output_type": "stream",
     "text": [
      "Original string: lkseropewdssafsdfafkpwe\n",
      "Most common characters of the said string:\n",
      "[('s', 4), ('e', 3), ('f', 3)]\n"
     ]
    }
   ],
   "source": [
    "from collections import Counter\n",
    "s = 'lkseropewdssafsdfafkpwe'\n",
    "print(\"Original string: \"+s)\n",
    "print(\"Most common characters of the said string:\")\n",
    "print(Counter(s).most_common(3))"
   ]
  },
  {
   "cell_type": "markdown",
   "metadata": {},
   "source": [
    "<strong>3- Write a Python program to add 'ing' at the end of a given string (length should be at least 3). If the given string is already ends with 'ing' then add 'ly' instead. If the string length of the given string is less than 3, leave it unchanged.\n",
    "Sample String : 'abc'\n",
    " Expected Result : 'abcing' \n",
    "Sample String : 'string'\n",
    " Expected Result : 'stringly'</strong>\n"
   ]
  },
  {
   "cell_type": "code",
   "execution_count": 19,
   "metadata": {},
   "outputs": [],
   "source": [
    "def ing_adding(word):\n",
    "    if len(word)<4:\n",
    "        print(word)\n",
    "    else:\n",
    "        print(word+'ing')"
   ]
  },
  {
   "cell_type": "code",
   "execution_count": 20,
   "metadata": {},
   "outputs": [
    {
     "name": "stdout",
     "output_type": "stream",
     "text": [
      "pythoning\n"
     ]
    }
   ],
   "source": [
    "ing_adding(\"python\")  #more than 3 words"
   ]
  },
  {
   "cell_type": "code",
   "execution_count": 23,
   "metadata": {},
   "outputs": [
    {
     "name": "stdout",
     "output_type": "stream",
     "text": [
      "cat\n"
     ]
    }
   ],
   "source": [
    "ing_adding(\"cat\")  #less than 3 words"
   ]
  },
  {
   "cell_type": "markdown",
   "metadata": {},
   "source": [
    "<strong>4- Write a Python program to find the first appearance of the substring 'not' and 'poor' from a given string, if 'bad' follows the 'poor', replace the whole 'not'...'poor' substring with 'good'. Return the resulting string.\n",
    "Sample String : 'The lyrics is not that poor!'\n",
    " Expected Result : 'The lyrics is good!'</strong>\n"
   ]
  },
  {
   "cell_type": "code",
   "execution_count": 38,
   "metadata": {},
   "outputs": [],
   "source": [
    "def char_changer(text):\n",
    "    find_not = text.find('not')\n",
    "    find_poor = text.find('poor')\n",
    "    \n",
    "    \n",
    "    if find_poor > find_not and find_not > 0 and find_poor > 0:\n",
    "        text = text.replace(text[find_not:(find_poor+4)], 'good')\n",
    "        return text\n",
    "    else:\n",
    "        return text"
   ]
  },
  {
   "cell_type": "code",
   "execution_count": 39,
   "metadata": {},
   "outputs": [
    {
     "name": "stdout",
     "output_type": "stream",
     "text": [
      "The lyrics is good!\n"
     ]
    }
   ],
   "source": [
    "print(char_changer('The lyrics is not that poor!'))"
   ]
  },
  {
   "cell_type": "markdown",
   "metadata": {},
   "source": [
    "<strong>5- Given two lists create a third list by picking an odd-index element from the first list and even index elements from the second.\n",
    "Given:\n",
    "listOne = [3, 6, 9, 12, 15, 18, 21]listTwo = [4, 8, 12, 16, 20, 24, 28]</strong>\n"
   ]
  },
  {
   "cell_type": "code",
   "execution_count": 41,
   "metadata": {},
   "outputs": [
    {
     "name": "stdout",
     "output_type": "stream",
     "text": [
      "[3, 9, 15, 21, 8, 16, 24]\n"
     ]
    }
   ],
   "source": [
    "listOne = [3, 6, 9, 12, 15, 18, 21]\n",
    "listTwo = [4, 8, 12, 16, 20, 24, 28]\n",
    "\n",
    "odd_index = []\n",
    "even_index= []\n",
    "\n",
    "#picking numbers which has odd index from list one\n",
    "for i in range(0, len(listOne)):\n",
    "    if i % 2:\n",
    "        pass\n",
    "    else:\n",
    "        odd_index.append(listOne[i])\n",
    "        \n",
    "#picking numbers which has Even index from list two\n",
    "for i in range(0, len(listTwo)):\n",
    "    if i % 2:\n",
    "        even_index.append(listTwo[i])\n",
    "\n",
    "\n",
    "#combining two lists into a result variable\n",
    "result = odd_index + even_index\n",
    "print(result)"
   ]
  },
  {
   "cell_type": "markdown",
   "metadata": {},
   "source": [
    "<strong>6- Given a list, remove the element at index 4 and add it to the 2nd position and at the end of the list\n",
    "Given \n",
    "list1 = [54, 44, 27, 79, 91, 41]\n",
    "output \n",
    "Original list  [34, 54, 67, 89, 11, 43, 94]\n",
    "List After removing element at index 4  [34, 54, 67, 89, 43, 94]\n",
    "List after Adding element at index 2  [34, 54, 11, 67, 89, 43, 94]\n",
    "List after Adding element at last  [34, 54, 11, 67, 89, 43, 94, 11]</strong>\n"
   ]
  },
  {
   "cell_type": "code",
   "execution_count": 46,
   "metadata": {},
   "outputs": [
    {
     "name": "stdout",
     "output_type": "stream",
     "text": [
      "List After removing element at index 4:  [34, 54, 67, 89, 43, 94]\n",
      "List after Adding element at index 2:  [34, 54, 11, 67, 89, 43, 94]\n",
      "List after Adding element at last:  [34, 54, 11, 67, 89, 43, 94, 11]\n"
     ]
    }
   ],
   "source": [
    "original_list = [34, 54, 67, 89, 11, 43, 94]\n",
    "\n",
    "#List After removing element at index 4  \n",
    "\n",
    "first_answer = original_list.pop(4)\n",
    "print('List After removing element at index 4: ',original_list)\n",
    "\n",
    "#List after Adding element at index 2 \n",
    "\n",
    "second_answer = original_list.insert(2,11)\n",
    "print(\"List after Adding element at index 2: \",original_list)\n",
    "\n",
    "#List after Adding element at last\n",
    "\n",
    "third_answer = original_list.append(11)\n",
    "print(\"List after Adding element at last: \",original_list)\n"
   ]
  },
  {
   "cell_type": "markdown",
   "metadata": {},
   "source": [
    "<strong>7- Given a two list of equal size create a Python set such that it shows the element from both lists in the pair\n",
    "Expected Output:\n",
    "First List  [2, 3, 4, 5, 6, 7, 8]\n",
    "Second List  [4, 9, 16, 25, 36, 49, 64]\n",
    "Result is  {(6, 36), (8, 64), (4, 16), (5, 25), (3, 9), (7, 49), (2, 4)}\n",
    "Hint: Search About Zip</strong>\n"
   ]
  },
  {
   "cell_type": "code",
   "execution_count": 51,
   "metadata": {},
   "outputs": [
    {
     "name": "stdout",
     "output_type": "stream",
     "text": [
      "{(7, 49), (2, 4), (4, 16), (8, 64), (6, 36), (3, 9), (5, 25)}\n"
     ]
    }
   ],
   "source": [
    "First_List = [2, 3, 4, 5, 6, 7, 8]\n",
    "Second_List = [4, 9, 16, 25, 36, 49, 64]\n",
    "\n",
    "zipped = zip(First_List,Second_List)\n",
    "print(set(zipped))"
   ]
  },
  {
   "cell_type": "markdown",
   "metadata": {},
   "source": [
    "<strong>8- Given two sets, Checks if One Set is a subset or superset of another Set. if the subset is found delete all elements from that set\n",
    "Given:\n",
    "firstSet = {27, 43, 34}\n",
    "secondSet = {34, 93, 22, 27, 43, 53, 48} \n",
    "Expected Output:\n",
    "First Set  {57, 83, 29}\n",
    "Second Set  {67, 73, 43, 48, 83, 57, 29}\n",
    "First set is subset of second set - True\n",
    "Second set is subset of First set -  False\n",
    "First set is Super set of second set -  False\n",
    "Second set is Super set of First set -  True\n",
    "First Set  set()\n",
    "Second Set  {67, 73, 43, 48, 83, 57, 29}\n",
    "</strong>"
   ]
  },
  {
   "cell_type": "code",
   "execution_count": 59,
   "metadata": {},
   "outputs": [
    {
     "name": "stdout",
     "output_type": "stream",
     "text": [
      "first set before checking :  {43, 34, 27}\n",
      "second set before checking :  {34, 43, 48, 53, 22, 27, 93}\n",
      "First Set  {57, 83, 29}\n",
      "Second Set  {67, 73, 43, 48, 83, 57, 29}\n",
      "Is first set of subset of the second one: - True\n",
      "Is second set of subset of the first one:-  False\n",
      "Is first set of superset of the second one: - False\n",
      "Is first set of superset of the second one: - True\n",
      "First Set  set()\n",
      "Second Set  {67, 73, 43, 48, 83, 57, 29}\n"
     ]
    }
   ],
   "source": [
    "f_set = {27, 43, 34}\n",
    "s_set = {34, 93, 22, 27, 43, 53, 48} \n",
    "print(\"first set before checking : \", f_set)\n",
    "print(\"second set before checking : \", s_set)\n",
    "\n",
    "\n",
    "f_set  = {57, 83, 29}\n",
    "s_set = {57, 83, 29, 67, 73, 43, 48}\n",
    "\n",
    "print(\"First Set \", f_set)\n",
    "print(\"Second Set \", s_set)\n",
    "\n",
    "print(\"Is first set of subset of the second one: -\", f_set.issubset(s_set))\n",
    "print(\"Is second set of subset of the first one:- \", s_set.issubset(f_set))\n",
    "\n",
    "print(\"Is first set of superset of the second one: -\", f_set.issuperset(s_set))\n",
    "print(\"Is first set of superset of the second one: -\", s_set.issuperset(f_set))\n",
    "\n",
    "\n",
    "if (f_set.issubset(s_set)):\n",
    "    f_set.clear()\n",
    "if (s_set.issubset(f_set)):\n",
    "    s_set.clear()\n",
    "\n",
    "print(\"First Set \", f_set)\n",
    "print(\"Second Set \", s_set)"
   ]
  }
 ],
 "metadata": {
  "kernelspec": {
   "display_name": "Python 3",
   "language": "python",
   "name": "python3"
  },
  "language_info": {
   "codemirror_mode": {
    "name": "ipython",
    "version": 3
   },
   "file_extension": ".py",
   "mimetype": "text/x-python",
   "name": "python",
   "nbconvert_exporter": "python",
   "pygments_lexer": "ipython3",
   "version": "3.8.3"
  }
 },
 "nbformat": 4,
 "nbformat_minor": 4
}
