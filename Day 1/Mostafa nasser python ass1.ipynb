{
 "cells": [
  {
   "cell_type": "markdown",
   "metadata": {},
   "source": [
    "<h3 style=\"color:#2F0000\">name: Mostafa Nasser Ali</h3>"
   ]
  },
  {
   "cell_type": "markdown",
   "metadata": {},
   "source": [
    "<center><h2 style=\"color:2F0000\">Python Assignment Day 1</h2></center>\n"
   ]
  },
  {
   "cell_type": "markdown",
   "metadata": {},
   "source": [
    "<h3> 1-Write a Python program which accepts the user's first and last name and print them in reverse order with a space between them.</h3>"
   ]
  },
  {
   "cell_type": "code",
   "execution_count": 5,
   "metadata": {},
   "outputs": [],
   "source": [
    "def show_Name(firstname, lastname):\n",
    "    print(lastname,firstname)"
   ]
  },
  {
   "cell_type": "code",
   "execution_count": 7,
   "metadata": {},
   "outputs": [
    {
     "name": "stdout",
     "output_type": "stream",
     "text": [
      "nasser mostafa\n"
     ]
    }
   ],
   "source": [
    "show_Name(\"mostafa\",\"nasser\")"
   ]
  },
  {
   "cell_type": "code",
   "execution_count": 48,
   "metadata": {},
   "outputs": [
    {
     "name": "stdout",
     "output_type": "stream",
     "text": [
      "Enter first name: mostafa\n",
      "Enter Last name: nasser\n",
      "nasser mostafa\n"
     ]
    }
   ],
   "source": [
    "#or:\n",
    "f = input(\"Enter first name: \")\n",
    "l = input(\"Enter Last name: \")\n",
    "print(l+ \" \" + f)"
   ]
  },
  {
   "cell_type": "markdown",
   "metadata": {},
   "source": [
    "<h3> 2- Write a Python program that accepts an integer (n) and computes the value of n+nn+nnn. </h3>"
   ]
  },
  {
   "cell_type": "code",
   "execution_count": 18,
   "metadata": {},
   "outputs": [],
   "source": [
    "def sum(n1,n2,n3):\n",
    "    print(n1+n2+n3)"
   ]
  },
  {
   "cell_type": "code",
   "execution_count": 19,
   "metadata": {},
   "outputs": [
    {
     "name": "stdout",
     "output_type": "stream",
     "text": [
      "615\n"
     ]
    }
   ],
   "source": [
    "sum(5,55,555)"
   ]
  },
  {
   "cell_type": "markdown",
   "metadata": {},
   "source": [
    "<h3>3- Write a Python program to print the following here document.\n",
    "Sample string :a string that you \"don't\" have to escape</h3>\n"
   ]
  },
  {
   "cell_type": "code",
   "execution_count": 23,
   "metadata": {},
   "outputs": [
    {
     "name": "stdout",
     "output_type": "stream",
     "text": [
      " \"a string that you \"don't\" have to escape\n",
      "This\n",
      "is a ....... multi-line heredoc string --------> example\n",
      "\" \n"
     ]
    }
   ],
   "source": [
    "print(''' \"a string that you \"don't\" have to escape\n",
    "This\n",
    "is a ....... multi-line heredoc string --------> example\n",
    "\" ''')"
   ]
  },
  {
   "cell_type": "markdown",
   "metadata": {},
   "source": [
    "<h3>4- Write a Python program to get the volume of a sphere with radius 6.</h3>"
   ]
  },
  {
   "cell_type": "code",
   "execution_count": 41,
   "metadata": {},
   "outputs": [],
   "source": [
    "def sphere_vol(x):\n",
    "    print((4/3)*(22/7)*x**3)"
   ]
  },
  {
   "cell_type": "code",
   "execution_count": 42,
   "metadata": {},
   "outputs": [
    {
     "name": "stdout",
     "output_type": "stream",
     "text": [
      "905.142857142857\n"
     ]
    }
   ],
   "source": [
    "sphere_vol(6)"
   ]
  },
  {
   "cell_type": "markdown",
   "metadata": {},
   "source": [
    "<h3>5- Write a Python program that will accept the base and height of a triangle and compute the area.</h3>\n",
    "\n"
   ]
  },
  {
   "cell_type": "code",
   "execution_count": 43,
   "metadata": {},
   "outputs": [
    {
     "name": "stdout",
     "output_type": "stream",
     "text": [
      "Input the base : 15\n",
      "Input the height : 10\n",
      "area =  75.0\n"
     ]
    }
   ],
   "source": [
    "b = int(input(\"Input the base : \"))\n",
    "h = int(input(\"Input the height : \"))\n",
    "\n",
    "area = b*h/2\n",
    "\n",
    "print(\"area = \", area)"
   ]
  },
  {
   "cell_type": "markdown",
   "metadata": {},
   "source": [
    "<h3>6- Consider dividing a string into two halves\n",
    "\n",
    "\tCase1:\n",
    "\t\tThe length is even, the front and back halves are the same length.\n",
    "\n",
    "\tCase2:\n",
    "\tThe length is odd, we’ll say that the extra char goes in the front half.\n",
    "\t\tE.g., ‘abced’, the front half is ‘abc’, the back half’de.\n",
    "\t   Given 2 strings, a and b, \n",
    "\t\treturn a string of the form:\n",
    "\t\t(a-front + b-front) + (a-back +b-back)\n",
    "</h3>"
   ]
  },
  {
   "cell_type": "code",
   "execution_count": 130,
   "metadata": {},
   "outputs": [
    {
     "name": "stdout",
     "output_type": "stream",
     "text": [
      "The original string is : mostafanasser\n",
      "The first part of string : mostaf\n",
      "The second part of string : nassera\n"
     ]
    }
   ],
   "source": [
    "# Python3 code to demonstrate working of\n",
    "# Splitting string into equal halves\n",
    "# Using list comprehension + string slicing\n",
    "  \n",
    "# initializing string \n",
    "test_str = \"mostafanasser\"\n",
    "  \n",
    "# printing original string \n",
    "print(\"The original string is : \" + test_str)\n",
    "  \n",
    "# Using list comprehension + string slicing\n",
    "# Splitting string into equal halves\n",
    "res_first = test_str[0:len(test_str)//2]\n",
    "res_second = test_str[len(test_str)//2  if len(test_str)%2 == 0\n",
    "                                 else ((len(test_str)//2)+1):]\n",
    "\n",
    "# printing result \n",
    "front_half = print(\"The first part of string : \" + res_first)\n",
    "back_half = print(\"The second part of string : \" + res_second + str(test_str[len(test_str)//2]))"
   ]
  },
  {
   "cell_type": "markdown",
   "metadata": {},
   "source": [
    "<h3>7- Given two points represented as x1,y1,x2,y2 . \n",
    "\tReturn the (float) distance between them considering the following distance \tequation.\n",
    "</h3>"
   ]
  },
  {
   "cell_type": "code",
   "execution_count": 49,
   "metadata": {},
   "outputs": [
    {
     "name": "stdout",
     "output_type": "stream",
     "text": [
      "6.324555320336759\n"
     ]
    }
   ],
   "source": [
    "import math\n",
    "p1 = [4, 0]\n",
    "p2 = [6, 6]\n",
    "distance = math.sqrt( ((p1[0]-p2[0])**2)+((p1[1]-p2[1])**2) )\n",
    "\n",
    "print(distance)"
   ]
  },
  {
   "cell_type": "code",
   "execution_count": 4,
   "metadata": {},
   "outputs": [
    {
     "name": "stdout",
     "output_type": "stream",
     "text": [
      "distance between the two points = 36.05551275463989\n"
     ]
    }
   ],
   "source": [
    "import math\n",
    "x1,x2,y1,y2 = 50,20,30,10\n",
    "print( \"distance between the two points =\" , math.sqrt( (x2 - x1)**2 + (y2 - y1)**2 ))\n"
   ]
  }
 ],
 "metadata": {
  "kernelspec": {
   "display_name": "Python 3",
   "language": "python",
   "name": "python3"
  },
  "language_info": {
   "codemirror_mode": {
    "name": "ipython",
    "version": 3
   },
   "file_extension": ".py",
   "mimetype": "text/x-python",
   "name": "python",
   "nbconvert_exporter": "python",
   "pygments_lexer": "ipython3",
   "version": "3.8.3"
  }
 },
 "nbformat": 4,
 "nbformat_minor": 4
}
