{
 "cells": [
  {
   "cell_type": "markdown",
   "id": "8fc7016a",
   "metadata": {},
   "source": [
    "<b>Name: Mostafa Nasser Ali</b>"
   ]
  },
  {
   "cell_type": "markdown",
   "id": "301839c3",
   "metadata": {},
   "source": [
    "<center><h3 style=\"color:brown\">Day 5 Python assignment</h3></center>"
   ]
  },
  {
   "cell_type": "code",
   "execution_count": null,
   "id": "c1f78c07",
   "metadata": {},
   "outputs": [],
   "source": [
    "\"\"\"1- Create class employee with the following characteristics:\n",
    "●Attributes:\n",
    "    ○ First_name\n",
    "    ○ Last_name\n",
    "    ○ Age\n",
    "    ○ Department\n",
    "    ○ Salary\n",
    "    ○ Static list contains all employee\n",
    "●Methods:\n",
    "    ○ constructor\n",
    "        ■ Assign values to the instance attributes\n",
    "        ■ Insert the created object to the list\n",
    "        ■ Insert new record in table employee in database\n",
    "    ○ transfer()\n",
    "        ■ Change employee department\n",
    "        ■ Update the database record with the update\n",
    "    ○ fire()\n",
    "        ■ Remove the employee from the shared list\n",
    "        ■ Delete its record from the database\n",
    "    ○ show()\n",
    "        ■ Prints all employee data\n",
    "    ○ List_employees()\n",
    "        ■ Select all employees and print their data\"\"\""
   ]
  },
  {
   "cell_type": "markdown",
   "id": "c571c251",
   "metadata": {},
   "source": [
    "<strong>Establish DB connection + Creating emp_info table</strong>"
   ]
  },
  {
   "cell_type": "code",
   "execution_count": 1,
   "id": "8744babb",
   "metadata": {
    "scrolled": true
   },
   "outputs": [
    {
     "name": "stdout",
     "output_type": "stream",
     "text": [
      "Record inserted successfully\n"
     ]
    }
   ],
   "source": [
    "import mysql.connector\n",
    "def connection():\n",
    "\n",
    "    mydb = mysql.connector.connect(host =\"localhost\",user=\"root\",password=\"2512\",database=\"employees\")\n",
    "    mycursor= mydb.cursor()\n",
    "    mycursor.execute('''create table emp_info(\n",
    "                fname char(50),\n",
    "                lname char(50),\n",
    "                 age int not null,\n",
    "                 department char(50),\n",
    "                 salary int\n",
    "                 );''')\n",
    "    print('Table Created successfully')\n",
    "    mydb.commit()\n",
    "    mydb.close()\n",
    "\n",
    "connection()"
   ]
  },
  {
   "cell_type": "markdown",
   "id": "63647b74",
   "metadata": {},
   "source": [
    "<b>Inserting values into emp_info table</b>"
   ]
  },
  {
   "cell_type": "code",
   "execution_count": 2,
   "id": "3934ff3c",
   "metadata": {},
   "outputs": [
    {
     "name": "stdout",
     "output_type": "stream",
     "text": [
      "Record inserted successfully\n",
      "Record inserted successfully\n",
      "('mostafa', 'nasser', 23, 'engineering', 8000)\n",
      "('Amr', 'Salama', 25, 'Business Development', 5000)\n",
      "('radwan', 'mansor', 50, 'Managment', 20000)\n",
      "('marwa', 'el-sayed', 35, 'HR', 6500)\n",
      "('maged', 'asaadi', 45, 'Managment', 12000)\n"
     ]
    }
   ],
   "source": [
    "def add_employee():\n",
    "    mydb = mysql.connector.connect(host =\"localhost\",user=\"root\",password=\"2512\",database=\"employees\")\n",
    "    mycursor= mydb.cursor()\n",
    "    mycursor.execute('''INSERT INTO emp_info\n",
    "    VALUES (\"mostafa\", \"nasser\", 23, \"engineering\",8000);''')\n",
    "    print('Record inserted successfully')\n",
    "    mycursor.execute('''INSERT INTO emp_info\n",
    "    VALUES (\"Amr\", \"Salama\", 25, \"Business Development\",5000);''')\n",
    "    mycursor.execute('''INSERT INTO emp_info\n",
    "    VALUES (\"radwan\", \"mansor\", 50, \"Managment\",20000);''')\n",
    "    mycursor.execute('''INSERT INTO emp_info\n",
    "    VALUES (\"marwa\", \"el-sayed\", 35, \"HR\",6500);''')\n",
    "    mycursor.execute('''INSERT INTO emp_info\n",
    "    VALUES (\"maged\", \"asaadi\", 45, \"Managment\",12000);''')\n",
    "\n",
    "    print('Record inserted successfully')\n",
    "    mycursor.execute('''select * from emp_info;''')\n",
    "    rows = mycursor.fetchall()\n",
    "    # print(rows)\n",
    "    for row in rows:\n",
    "        print(row)\n",
    "    mydb.commit()\n",
    "    mydb.close()\n",
    "\n",
    "\n",
    "\n",
    "\n",
    "add_employee()"
   ]
  },
  {
   "cell_type": "markdown",
   "id": "9005c14e",
   "metadata": {},
   "source": [
    "<strong>Update values  # transfer employee to another department</strong>"
   ]
  },
  {
   "cell_type": "code",
   "execution_count": 3,
   "id": "686c86eb",
   "metadata": {},
   "outputs": [
    {
     "name": "stdout",
     "output_type": "stream",
     "text": [
      "Department Updated successfully\n",
      "('mostafa', 'nasser', 23, 'engineering', 8000)\n",
      "('Amr', 'Salama', 25, 'Accounting', 5000)\n",
      "('radwan', 'mansor', 50, 'Managment', 20000)\n",
      "('marwa', 'el-sayed', 35, 'HR', 6500)\n",
      "('maged', 'asaadi', 45, 'Managment', 12000)\n"
     ]
    }
   ],
   "source": [
    "def transfer():\n",
    "    mydb = mysql.connector.connect(host =\"localhost\",user=\"root\",password=\"2512\",database=\"employees\")\n",
    "    mycursor= mydb.cursor()\n",
    "    mycursor.execute('''update emp_info\n",
    "                        set department = \"Accounting\"\n",
    "                        where fname    = \"Amr\" ;''')\n",
    "\n",
    "    print(\"Department Updated successfully\")\n",
    "    mycursor.execute('''select * from emp_info;''')\n",
    "    rows = mycursor.fetchall()\n",
    "    # print(rows)\n",
    "    for row in rows:\n",
    "        print(row)\n",
    "    mydb.commit()\n",
    "    mydb.close()   \n",
    "    \n",
    "transfer()"
   ]
  },
  {
   "cell_type": "markdown",
   "id": "cb1140c1",
   "metadata": {},
   "source": [
    "<strong>Selecting and printing all employee data<strong>"
   ]
  },
  {
   "cell_type": "code",
   "execution_count": 4,
   "id": "26a11a62",
   "metadata": {},
   "outputs": [
    {
     "name": "stdout",
     "output_type": "stream",
     "text": [
      "Selection completed successfully\n",
      "('mostafa', 'nasser', 23, 'engineering', 8000)\n",
      "('Amr', 'Salama', 25, 'Accounting', 5000)\n",
      "('radwan', 'mansor', 50, 'Managment', 20000)\n",
      "('marwa', 'el-sayed', 35, 'HR', 6500)\n",
      "('maged', 'asaadi', 45, 'Managment', 12000)\n"
     ]
    }
   ],
   "source": [
    "def show():\n",
    "    mydb = mysql.connector.connect(host =\"localhost\",user=\"root\",password=\"2512\",database=\"employees\")\n",
    "    mycursor= mydb.cursor()\n",
    "    mycursor.execute('''SELECT * FROM emp_info;''')\n",
    "    rows = mycursor.fetchall()\n",
    "    print(\"Selection completed successfully\")\n",
    "    for row in rows:\n",
    "        print(row)\n",
    "    mydb.close()\n",
    "\n",
    "show()"
   ]
  },
  {
   "cell_type": "markdown",
   "id": "f03297f2",
   "metadata": {},
   "source": [
    "<strong>Deleting rows from emp_info<strong>"
   ]
  },
  {
   "cell_type": "code",
   "execution_count": 5,
   "id": "10bdc06c",
   "metadata": {},
   "outputs": [
    {
     "name": "stdout",
     "output_type": "stream",
     "text": [
      "row deleted successfully\n",
      "('mostafa', 'nasser', 23, 'engineering', 8000)\n",
      "('Amr', 'Salama', 25, 'Accounting', 5000)\n",
      "('radwan', 'mansor', 50, 'Managment', 20000)\n",
      "('marwa', 'el-sayed', 35, 'HR', 6500)\n"
     ]
    }
   ],
   "source": [
    "def fire():\n",
    "    mydb = mysql.connector.connect(host =\"localhost\",user=\"root\",password=\"2512\",database=\"employees\")\n",
    "    mycursor= mydb.cursor()\n",
    "    mycursor.execute('''DELETE FROM emp_info WHERE age = \"45\";''')\n",
    "    rows = mycursor.fetchall()\n",
    "    print(\"row deleted successfully\")\n",
    "    mycursor.execute('''select * from emp_info;''')\n",
    "    rows = mycursor.fetchall()\n",
    "    # print(rows)\n",
    "    for row in rows:\n",
    "        print(row)\n",
    "    mydb.close()\n",
    "\n",
    "fire()"
   ]
  }
 ],
 "metadata": {
  "kernelspec": {
   "display_name": "Python 3",
   "language": "python",
   "name": "python3"
  },
  "language_info": {
   "codemirror_mode": {
    "name": "ipython",
    "version": 3
   },
   "file_extension": ".py",
   "mimetype": "text/x-python",
   "name": "python",
   "nbconvert_exporter": "python",
   "pygments_lexer": "ipython3",
   "version": "3.8.10"
  }
 },
 "nbformat": 4,
 "nbformat_minor": 5
}
